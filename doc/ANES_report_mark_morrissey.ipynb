{
 "cells": [
  {
   "cell_type": "code",
   "execution_count": 1,
   "metadata": {},
   "outputs": [],
   "source": [
    "\"\"\"\n",
    "Created on Sat Jan 23 19:50:11 2021\n",
    "\n",
    "@author: morrismr\n",
    "\"\"\"\n",
    "\n",
    "import pandas as pd\n",
    "import numpy as np\n",
    "import matplotlib.pyplot as plt"
   ]
  },
  {
   "cell_type": "code",
   "execution_count": 2,
   "metadata": {},
   "outputs": [],
   "source": [
    "full = pd.read_csv(r'C:\\Users\\morrismr\\Downloads\\anes_timeseries_cdf\\anes_timeseries_cdf_rawdata.txt', low_memory=False)\n",
    "\n"
   ]
  },
  {
   "cell_type": "code",
   "execution_count": 3,
   "metadata": {},
   "outputs": [
    {
     "name": "stdout",
     "output_type": "stream",
     "text": [
      "                            Version  VCF0004  VCF0006  VCF0006a  VCF0009x  \\\n",
      "55674  ANES_CDF_VERSION:2019-Sep-10     2016        1  20160001     0.887   \n",
      "55675  ANES_CDF_VERSION:2019-Sep-10     2016        2  20160002     1.160   \n",
      "55676  ANES_CDF_VERSION:2019-Sep-10     2016        3  20160003     0.416   \n",
      "55677  ANES_CDF_VERSION:2019-Sep-10     2016        4  20160004     0.385   \n",
      "55678  ANES_CDF_VERSION:2019-Sep-10     2016        5  20160005     0.693   \n",
      "\n",
      "       VCF0010x  VCF0011x  VCF0009y  VCF0010y  VCF0011y  ...  VCF9272  \\\n",
      "55674     0.887     0.887       0.0       0.0       0.0  ...        4   \n",
      "55675     1.160     1.160       0.0       0.0       0.0  ...        1   \n",
      "55676     0.416     0.416       0.0       0.0       0.0  ...        4   \n",
      "55677     0.385     0.385       0.0       0.0       0.0  ...        3   \n",
      "55678     0.693     0.693       0.0       0.0       0.0  ...        4   \n",
      "\n",
      "       VCF9273  VCF9274 VCF9275  VCF9277  VCF9278 VCF9279 VCF9280  VCF9281  \\\n",
      "55674        4                2        3       -9       1       2        1   \n",
      "55675        1                2        1        2       1       2        1   \n",
      "55676        5                2        1        2       1       2        1   \n",
      "55677        3                1        1        2       1       1        1   \n",
      "55678        4                2        1        1       1       1        1   \n",
      "\n",
      "       VCF9282  \n",
      "55674        1  \n",
      "55675        1  \n",
      "55676        1  \n",
      "55677        1  \n",
      "55678        1  \n",
      "\n",
      "[5 rows x 1029 columns]\n",
      "                            Version  VCF0004  VCF0006  VCF0006a  VCF0009x  \\\n",
      "49760  ANES_CDF_VERSION:2019-Sep-10     2012        1  20120001    0.3802   \n",
      "49761  ANES_CDF_VERSION:2019-Sep-10     2012        2  20120002    0.5470   \n",
      "49762  ANES_CDF_VERSION:2019-Sep-10     2012        3  20120003    0.4975   \n",
      "49763  ANES_CDF_VERSION:2019-Sep-10     2012        4  20120004    0.2549   \n",
      "49764  ANES_CDF_VERSION:2019-Sep-10     2012        5  20120005    0.6028   \n",
      "\n",
      "       VCF0010x  VCF0011x  VCF0009y  VCF0010y  VCF0011y  ...  VCF9272  \\\n",
      "49760    0.3802    0.3802       0.0       0.0       0.0  ...       -9   \n",
      "49761    0.5470    0.5470       0.0       0.0       0.0  ...        1   \n",
      "49762    0.4975    0.4975       0.0       0.0       0.0  ...        3   \n",
      "49763    0.2549    0.2549       0.0       0.0       0.0  ...        1   \n",
      "49764    0.6028    0.6028       0.0       0.0       0.0  ...        2   \n",
      "\n",
      "       VCF9273  VCF9274 VCF9275  VCF9277  VCF9278 VCF9279 VCF9280  VCF9281  \\\n",
      "49760       -9               -9       -9       -9       1       1        1   \n",
      "49761        1                3       -9       -9       1       1        1   \n",
      "49762        3                3        1        2       1       2        1   \n",
      "49763        4                2       -9       -9       1       2        1   \n",
      "49764        2                3        1        2       1       2        1   \n",
      "\n",
      "       VCF9282  \n",
      "49760        1  \n",
      "49761        2  \n",
      "49762        2  \n",
      "49763        2  \n",
      "49764        1  \n",
      "\n",
      "[5 rows x 1029 columns]\n",
      "Taking a look at the structure of this dataset. It includes responsdents answers to a massive set of questions, indexed by year.\n"
     ]
    }
   ],
   "source": [
    "\n",
    "df16 = full[full.VCF0004 == 2016]\n",
    "df12 = full[full.VCF0004 == 2012]\n",
    "print(df16.head())\n",
    "print(df12.head())\n",
    "print('Taking a look at the structure of this dataset. It includes responsdents answers to a massive set of questions, indexed by year.')\n"
   ]
  },
  {
   "cell_type": "code",
   "execution_count": 4,
   "metadata": {},
   "outputs": [
    {
     "name": "stdout",
     "output_type": "stream",
     "text": [
      "2012    5914\n",
      "2016    4270\n",
      "1972    2705\n",
      "1992    2485\n",
      "2008    2322\n",
      "1978    2304\n",
      "1984    2257\n",
      "1976    2248\n",
      "1986    2176\n",
      "1988    2040\n",
      "1990    1980\n",
      "1952    1899\n",
      "2000    1807\n",
      "1994    1795\n",
      "1956    1762\n",
      "1996    1714\n",
      "1980    1614\n",
      "1974    1575\n",
      "1964    1571\n",
      "1968    1557\n",
      "2002    1511\n",
      "1970    1507\n",
      "1958    1450\n",
      "1982    1418\n",
      "1962    1297\n",
      "1966    1291\n",
      "1998    1281\n",
      "2004    1212\n",
      "1960    1181\n",
      "1954    1139\n",
      "1948     662\n",
      "Name: VCF0004, dtype: int64\n",
      "This lets us know how many survey answer records we had per year. Generally, it increased at time went on\n"
     ]
    }
   ],
   "source": [
    "print(full.VCF0004.value_counts())\n",
    "print('This lets us know how many survey answer records we had per year. Generally, it increased at time went on')"
   ]
  },
  {
   "cell_type": "code",
   "execution_count": 5,
   "metadata": {},
   "outputs": [],
   "source": [
    "\n",
    "def fixMissingAgeGroups(age_distr_counts):\n",
    "    \n",
    "    age_distr_counts = sp.VCF0004.value_counts()\n",
    "    age_distr_counts = age_distr_counts[age_distr_counts < 8]\n",
    "    lower_years = age_distr_counts.index\n",
    "    \n",
    "    \n",
    "    i = sp.shape[0] + 1\n",
    "    for year in lower_years:\n",
    "        sp.loc[i] = year, 7, 0.0\n",
    "        i = i+1\n",
    "        \n",
    "    sp.sort_values(by=['VCF0004', 'VCF0102'], inplace=True)\n",
    "    return sp\n"
   ]
  },
  {
   "cell_type": "code",
   "execution_count": 6,
   "metadata": {},
   "outputs": [],
   "source": [
    "\n",
    "def getPercentageOverTime(col_name):\n",
    "\n",
    "    raw_count_df = full.groupby(['VCF0004', col_name]).agg({col_name: 'count'})\n",
    "    # Change: groupby state_office and divide by sum\n",
    "    gp = raw_count_df.groupby(level=0).apply(lambda x:\n",
    "                                                     100 * x / float(x.sum()))\n",
    "    \n",
    "    #Undoing the multi-index\n",
    "    gp.rename(columns = {col_name: col_name + '_pct'}, inplace=True)\n",
    "    gp.reset_index(inplace=True)\n",
    "        \n",
    "\n",
    "    #confirming that each percentage sums to 100\n",
    "#     print(gp[gp.VCF0004 == 1952].sum())\n",
    "    gp.VCF0004.value_counts()\n",
    "    return gp\n",
    "\n"
   ]
  },
  {
   "cell_type": "code",
   "execution_count": 7,
   "metadata": {},
   "outputs": [],
   "source": [
    "def plotOverTime(mydf, times_, col_name, mylabels, mytitle):\n",
    "    \n",
    "\n",
    "    year_vals = []\n",
    "    for year in times_:\n",
    "        year_vals.append(mydf[mydf['VCF0004'] == year][col_name])\n",
    "\n",
    "    year_vals = np.stack(year_vals)\n",
    "    year_vals =year_vals.T\n",
    "    \n",
    "    #stacked area chart\n",
    "    plt.plot()\n",
    "    # Make the plot\n",
    "    \n",
    "    \n",
    "    # age_labels.reverse()\n",
    "    plt.stackplot(times_, year_vals, labels=mylabels)\n",
    "    plt.legend(loc='upper left')\n",
    "    plt.margins(0,0)\n",
    "    plt.title(mytitle)\n",
    "    plt.show()\n",
    "\n"
   ]
  },
  {
   "cell_type": "code",
   "execution_count": 8,
   "metadata": {},
   "outputs": [],
   "source": [
    "def compressAgeNumbers(x):\n",
    "    if x in [0,1]:\n",
    "        return 1\n",
    "    elif x in [2,3,4]:\n",
    "        return 2\n",
    "    else:\n",
    "        return 3\n",
    "    \n",
    "def compressThermometer(x):\n",
    "    if x == 0:\n",
    "        return 0\n",
    "    if x in [1,25]:\n",
    "        return 1\n",
    "    elif x in [25,50]:\n",
    "        return 2\n",
    "    elif x in [50,75]:\n",
    "        return 3\n",
    "    elif x in [76,100]:\n",
    "        return 4\n",
    "\n",
    "    # source for this function: https://stackoverflow.com/questions/40531255/how-to-replace-empty-cells-with-0-and-change-strings-to-integers-where-possible/40531388\n",
    "def recode_empty_cells(dataframe, list_of_columns):\n",
    "\n",
    "    for column in list_of_columns:\n",
    "      dataframe[column] = dataframe[column].replace(r'\\s+', np.nan, regex=True)\n",
    "      dataframe[column] = dataframe[column].fillna(0)"
   ]
  },
  {
   "cell_type": "code",
   "execution_count": 9,
   "metadata": {},
   "outputs": [
    {
     "data": {
      "image/png": "[encoded data removed]",
      "text/plain": [
       "<Figure size 432x288 with 1 Axes>"
      ]
     },
     "metadata": {
      "needs_background": "light"
     },
     "output_type": "display_data"
    }
   ],
   "source": [
    "sp = getPercentageOverTime('VCF0102')\n",
    "fixed_sp = fixMissingAgeGroups(sp.VCF0004.value_counts())\n",
    "sp = fixed_sp.copy()\n",
    "\n",
    "\n",
    "# =============================================================================\n",
    "# s48 = sp[sp['VCF0004'] == 1948][['VCF0102', 'VCF0102_pct']]\n",
    "# s52 = sp[sp['VCF0004'] == 1952]['VCF0102_pct']\n",
    "# sp[sp['VCF0004'] == 1956]['VCF0102_pct']\n",
    "# \n",
    "# =============================================================================\n",
    "\n",
    "times = np.arange(1948, 2020, 4)\n",
    "age_labels = ['17-24', '25-34', '35-44', '45-54', '55-64', '65-64', '75+']\n",
    "plotOverTime(sp, times, 'VCF0102_pct', age_labels, 'Percentage change in Survey Respondents Age') \n"
   ]
  },
  {
   "cell_type": "code",
   "execution_count": 10,
   "metadata": {},
   "outputs": [
    {
     "name": "stdout",
     "output_type": "stream",
     "text": [
      "5\n"
     ]
    }
   ],
   "source": [
    "print(5)"
   ]
  },
  {
   "cell_type": "code",
   "execution_count": 11,
   "metadata": {},
   "outputs": [
    {
     "data": {
      "image/png": "[encoded data removed]",
      "text/plain": [
       "<Figure size 432x288 with 1 Axes>"
      ]
     },
     "metadata": {
      "needs_background": "light"
     },
     "output_type": "display_data"
    }
   ],
   "source": [
    "full['age_clusters'] = full['VCF0102'].apply(compressAgeNumbers)  \n",
    "ap = getPercentageOverTime('age_clusters')\n",
    "# fixed_ap = fixMissingAgeGroups(ap.VCF0004.value_counts())\n",
    "# ap = fixed_ap.copy()\n",
    "smaller_age_labels = ['17-34', '34-64','65+' ]\n",
    "plotOverTime(ap, times, 'age_clusters_pct', smaller_age_labels, 'Percentage change in Survey Respondents Age')"
   ]
  },
  {
   "cell_type": "code",
   "execution_count": 12,
   "metadata": {},
   "outputs": [],
   "source": [
    "def recode_empty_cells(dataframe, list_of_columns):\n",
    "\n",
    "    for column in list_of_columns:\n",
    "      dataframe[column] = dataframe[column].replace(r'\\s+', np.nan, regex=True)\n",
    "      dataframe[column] = dataframe[column].fillna(0)\n",
    "\n",
    "    return dataframe\n",
    "full2 = recode_empty_cells(full, ['VCF0229'])\n",
    "full['VCF0229'].fillna(0, inplace=True)\n",
    "full['VCF0229'] = full['VCF0229'].astype(int)\n",
    "full['env_therm'] = full['VCF0229'].apply(compressThermometer)"
   ]
  },
  {
   "cell_type": "code",
   "execution_count": 13,
   "metadata": {},
   "outputs": [
    {
     "data": {
      "image/png": "[encoded data removed]",
      "text/plain": [
       "<Figure size 432x288 with 1 Axes>"
      ]
     },
     "metadata": {
      "needs_background": "light"
     },
     "output_type": "display_data"
    }
   ],
   "source": [
    "ap = getPercentageOverTime('env_therm')\n",
    "# fixed_ap = fixMissingAgeGroups(ap.VCF0004.value_counts())\n",
    "# ap = fixed_ap.copy()\n",
    "smaller_age_labels = ['No Response', 'Very Little', 'Moderate Low', 'Moderate High', 'Very Much']\n",
    "env_therm_times = np.arange(1990, 2006, 2)\n",
    "b = np.array(1998)\n",
    "env_therm_times = np.setdiff1d(env_therm_times, b)\n",
    "ap2 = ap[(ap.VCF0004 < 2006) & (ap.VCF0004 > 1988)]\n",
    "ap2 = ap2[ap2.VCF0004 != 1998 ]\n",
    "plotOverTime(ap2, env_therm_times, 'env_therm_pct', smaller_age_labels, 'Percentage change in Interest in Protecting Environment')\n"
   ]
  },
  {
   "cell_type": "code",
   "execution_count": 14,
   "metadata": {},
   "outputs": [
    {
     "name": "stdout",
     "output_type": "stream",
     "text": [
      "done!\n"
     ]
    }
   ],
   "source": [
    "print('done!')"
   ]
  },
  {
   "cell_type": "code",
   "execution_count": null,
   "metadata": {},
   "outputs": [],
   "source": []
  },
  {
   "cell_type": "code",
   "execution_count": null,
   "metadata": {},
   "outputs": [],
   "source": []
  }
 ],
 "metadata": {
  "kernelspec": {
   "display_name": "Python 3",
   "language": "python",
   "name": "python3"
  },
  "language_info": {
   "codemirror_mode": {
    "name": "ipython",
    "version": 3
   },
   "file_extension": ".py",
   "mimetype": "text/x-python",
   "name": "python",
   "nbconvert_exporter": "python",
   "pygments_lexer": "ipython3",
   "version": "3.8.5"
  }
 },
 "nbformat": 4,
 "nbformat_minor": 4
}
